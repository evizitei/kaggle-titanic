{
 "cells": [
  {
   "cell_type": "markdown",
   "metadata": {},
   "source": [
    "# Titanic Survivors\n",
    "\n",
    "Data analysis and prediction practice"
   ]
  },
  {
   "cell_type": "code",
   "execution_count": 1,
   "metadata": {
    "collapsed": true
   },
   "outputs": [],
   "source": [
    "import pandas as pd\n",
    "import numpy as np"
   ]
  },
  {
   "cell_type": "code",
   "execution_count": 2,
   "metadata": {
    "collapsed": true
   },
   "outputs": [],
   "source": [
    "training = pd.read_csv(\"./train.csv\")\n",
    "test = pd.read_csv(\"./test.csv\")"
   ]
  },
  {
   "cell_type": "code",
   "execution_count": 3,
   "metadata": {},
   "outputs": [
    {
     "data": {
      "text/html": [
       "<div>\n",
       "<style>\n",
       "    .dataframe thead tr:only-child th {\n",
       "        text-align: right;\n",
       "    }\n",
       "\n",
       "    .dataframe thead th {\n",
       "        text-align: left;\n",
       "    }\n",
       "\n",
       "    .dataframe tbody tr th {\n",
       "        vertical-align: top;\n",
       "    }\n",
       "</style>\n",
       "<table border=\"1\" class=\"dataframe\">\n",
       "  <thead>\n",
       "    <tr style=\"text-align: right;\">\n",
       "      <th></th>\n",
       "      <th>PassengerId</th>\n",
       "      <th>Survived</th>\n",
       "      <th>Pclass</th>\n",
       "      <th>Name</th>\n",
       "      <th>Sex</th>\n",
       "      <th>Age</th>\n",
       "      <th>SibSp</th>\n",
       "      <th>Parch</th>\n",
       "      <th>Ticket</th>\n",
       "      <th>Fare</th>\n",
       "      <th>Cabin</th>\n",
       "      <th>Embarked</th>\n",
       "    </tr>\n",
       "  </thead>\n",
       "  <tbody>\n",
       "    <tr>\n",
       "      <th>0</th>\n",
       "      <td>1</td>\n",
       "      <td>0</td>\n",
       "      <td>3</td>\n",
       "      <td>Braund, Mr. Owen Harris</td>\n",
       "      <td>male</td>\n",
       "      <td>22.0</td>\n",
       "      <td>1</td>\n",
       "      <td>0</td>\n",
       "      <td>A/5 21171</td>\n",
       "      <td>7.2500</td>\n",
       "      <td>NaN</td>\n",
       "      <td>S</td>\n",
       "    </tr>\n",
       "    <tr>\n",
       "      <th>1</th>\n",
       "      <td>2</td>\n",
       "      <td>1</td>\n",
       "      <td>1</td>\n",
       "      <td>Cumings, Mrs. John Bradley (Florence Briggs Th...</td>\n",
       "      <td>female</td>\n",
       "      <td>38.0</td>\n",
       "      <td>1</td>\n",
       "      <td>0</td>\n",
       "      <td>PC 17599</td>\n",
       "      <td>71.2833</td>\n",
       "      <td>C85</td>\n",
       "      <td>C</td>\n",
       "    </tr>\n",
       "    <tr>\n",
       "      <th>2</th>\n",
       "      <td>3</td>\n",
       "      <td>1</td>\n",
       "      <td>3</td>\n",
       "      <td>Heikkinen, Miss. Laina</td>\n",
       "      <td>female</td>\n",
       "      <td>26.0</td>\n",
       "      <td>0</td>\n",
       "      <td>0</td>\n",
       "      <td>STON/O2. 3101282</td>\n",
       "      <td>7.9250</td>\n",
       "      <td>NaN</td>\n",
       "      <td>S</td>\n",
       "    </tr>\n",
       "    <tr>\n",
       "      <th>3</th>\n",
       "      <td>4</td>\n",
       "      <td>1</td>\n",
       "      <td>1</td>\n",
       "      <td>Futrelle, Mrs. Jacques Heath (Lily May Peel)</td>\n",
       "      <td>female</td>\n",
       "      <td>35.0</td>\n",
       "      <td>1</td>\n",
       "      <td>0</td>\n",
       "      <td>113803</td>\n",
       "      <td>53.1000</td>\n",
       "      <td>C123</td>\n",
       "      <td>S</td>\n",
       "    </tr>\n",
       "    <tr>\n",
       "      <th>4</th>\n",
       "      <td>5</td>\n",
       "      <td>0</td>\n",
       "      <td>3</td>\n",
       "      <td>Allen, Mr. William Henry</td>\n",
       "      <td>male</td>\n",
       "      <td>35.0</td>\n",
       "      <td>0</td>\n",
       "      <td>0</td>\n",
       "      <td>373450</td>\n",
       "      <td>8.0500</td>\n",
       "      <td>NaN</td>\n",
       "      <td>S</td>\n",
       "    </tr>\n",
       "    <tr>\n",
       "      <th>5</th>\n",
       "      <td>6</td>\n",
       "      <td>0</td>\n",
       "      <td>3</td>\n",
       "      <td>Moran, Mr. James</td>\n",
       "      <td>male</td>\n",
       "      <td>NaN</td>\n",
       "      <td>0</td>\n",
       "      <td>0</td>\n",
       "      <td>330877</td>\n",
       "      <td>8.4583</td>\n",
       "      <td>NaN</td>\n",
       "      <td>Q</td>\n",
       "    </tr>\n",
       "    <tr>\n",
       "      <th>6</th>\n",
       "      <td>7</td>\n",
       "      <td>0</td>\n",
       "      <td>1</td>\n",
       "      <td>McCarthy, Mr. Timothy J</td>\n",
       "      <td>male</td>\n",
       "      <td>54.0</td>\n",
       "      <td>0</td>\n",
       "      <td>0</td>\n",
       "      <td>17463</td>\n",
       "      <td>51.8625</td>\n",
       "      <td>E46</td>\n",
       "      <td>S</td>\n",
       "    </tr>\n",
       "    <tr>\n",
       "      <th>7</th>\n",
       "      <td>8</td>\n",
       "      <td>0</td>\n",
       "      <td>3</td>\n",
       "      <td>Palsson, Master. Gosta Leonard</td>\n",
       "      <td>male</td>\n",
       "      <td>2.0</td>\n",
       "      <td>3</td>\n",
       "      <td>1</td>\n",
       "      <td>349909</td>\n",
       "      <td>21.0750</td>\n",
       "      <td>NaN</td>\n",
       "      <td>S</td>\n",
       "    </tr>\n",
       "    <tr>\n",
       "      <th>8</th>\n",
       "      <td>9</td>\n",
       "      <td>1</td>\n",
       "      <td>3</td>\n",
       "      <td>Johnson, Mrs. Oscar W (Elisabeth Vilhelmina Berg)</td>\n",
       "      <td>female</td>\n",
       "      <td>27.0</td>\n",
       "      <td>0</td>\n",
       "      <td>2</td>\n",
       "      <td>347742</td>\n",
       "      <td>11.1333</td>\n",
       "      <td>NaN</td>\n",
       "      <td>S</td>\n",
       "    </tr>\n",
       "    <tr>\n",
       "      <th>9</th>\n",
       "      <td>10</td>\n",
       "      <td>1</td>\n",
       "      <td>2</td>\n",
       "      <td>Nasser, Mrs. Nicholas (Adele Achem)</td>\n",
       "      <td>female</td>\n",
       "      <td>14.0</td>\n",
       "      <td>1</td>\n",
       "      <td>0</td>\n",
       "      <td>237736</td>\n",
       "      <td>30.0708</td>\n",
       "      <td>NaN</td>\n",
       "      <td>C</td>\n",
       "    </tr>\n",
       "  </tbody>\n",
       "</table>\n",
       "</div>"
      ],
      "text/plain": [
       "   PassengerId  Survived  Pclass  \\\n",
       "0            1         0       3   \n",
       "1            2         1       1   \n",
       "2            3         1       3   \n",
       "3            4         1       1   \n",
       "4            5         0       3   \n",
       "5            6         0       3   \n",
       "6            7         0       1   \n",
       "7            8         0       3   \n",
       "8            9         1       3   \n",
       "9           10         1       2   \n",
       "\n",
       "                                                Name     Sex   Age  SibSp  \\\n",
       "0                            Braund, Mr. Owen Harris    male  22.0      1   \n",
       "1  Cumings, Mrs. John Bradley (Florence Briggs Th...  female  38.0      1   \n",
       "2                             Heikkinen, Miss. Laina  female  26.0      0   \n",
       "3       Futrelle, Mrs. Jacques Heath (Lily May Peel)  female  35.0      1   \n",
       "4                           Allen, Mr. William Henry    male  35.0      0   \n",
       "5                                   Moran, Mr. James    male   NaN      0   \n",
       "6                            McCarthy, Mr. Timothy J    male  54.0      0   \n",
       "7                     Palsson, Master. Gosta Leonard    male   2.0      3   \n",
       "8  Johnson, Mrs. Oscar W (Elisabeth Vilhelmina Berg)  female  27.0      0   \n",
       "9                Nasser, Mrs. Nicholas (Adele Achem)  female  14.0      1   \n",
       "\n",
       "   Parch            Ticket     Fare Cabin Embarked  \n",
       "0      0         A/5 21171   7.2500   NaN        S  \n",
       "1      0          PC 17599  71.2833   C85        C  \n",
       "2      0  STON/O2. 3101282   7.9250   NaN        S  \n",
       "3      0            113803  53.1000  C123        S  \n",
       "4      0            373450   8.0500   NaN        S  \n",
       "5      0            330877   8.4583   NaN        Q  \n",
       "6      0             17463  51.8625   E46        S  \n",
       "7      1            349909  21.0750   NaN        S  \n",
       "8      2            347742  11.1333   NaN        S  \n",
       "9      0            237736  30.0708   NaN        C  "
      ]
     },
     "execution_count": 3,
     "metadata": {},
     "output_type": "execute_result"
    }
   ],
   "source": [
    "training.head(10)"
   ]
  },
  {
   "cell_type": "code",
   "execution_count": 4,
   "metadata": {},
   "outputs": [
    {
     "data": {
      "text/html": [
       "<div>\n",
       "<style>\n",
       "    .dataframe thead tr:only-child th {\n",
       "        text-align: right;\n",
       "    }\n",
       "\n",
       "    .dataframe thead th {\n",
       "        text-align: left;\n",
       "    }\n",
       "\n",
       "    .dataframe tbody tr th {\n",
       "        vertical-align: top;\n",
       "    }\n",
       "</style>\n",
       "<table border=\"1\" class=\"dataframe\">\n",
       "  <thead>\n",
       "    <tr style=\"text-align: right;\">\n",
       "      <th></th>\n",
       "      <th>PassengerId</th>\n",
       "      <th>Pclass</th>\n",
       "      <th>Name</th>\n",
       "      <th>Sex</th>\n",
       "      <th>Age</th>\n",
       "      <th>SibSp</th>\n",
       "      <th>Parch</th>\n",
       "      <th>Ticket</th>\n",
       "      <th>Fare</th>\n",
       "      <th>Cabin</th>\n",
       "      <th>Embarked</th>\n",
       "    </tr>\n",
       "  </thead>\n",
       "  <tbody>\n",
       "    <tr>\n",
       "      <th>0</th>\n",
       "      <td>892</td>\n",
       "      <td>3</td>\n",
       "      <td>Kelly, Mr. James</td>\n",
       "      <td>male</td>\n",
       "      <td>34.5</td>\n",
       "      <td>0</td>\n",
       "      <td>0</td>\n",
       "      <td>330911</td>\n",
       "      <td>7.8292</td>\n",
       "      <td>NaN</td>\n",
       "      <td>Q</td>\n",
       "    </tr>\n",
       "    <tr>\n",
       "      <th>1</th>\n",
       "      <td>893</td>\n",
       "      <td>3</td>\n",
       "      <td>Wilkes, Mrs. James (Ellen Needs)</td>\n",
       "      <td>female</td>\n",
       "      <td>47.0</td>\n",
       "      <td>1</td>\n",
       "      <td>0</td>\n",
       "      <td>363272</td>\n",
       "      <td>7.0000</td>\n",
       "      <td>NaN</td>\n",
       "      <td>S</td>\n",
       "    </tr>\n",
       "    <tr>\n",
       "      <th>2</th>\n",
       "      <td>894</td>\n",
       "      <td>2</td>\n",
       "      <td>Myles, Mr. Thomas Francis</td>\n",
       "      <td>male</td>\n",
       "      <td>62.0</td>\n",
       "      <td>0</td>\n",
       "      <td>0</td>\n",
       "      <td>240276</td>\n",
       "      <td>9.6875</td>\n",
       "      <td>NaN</td>\n",
       "      <td>Q</td>\n",
       "    </tr>\n",
       "    <tr>\n",
       "      <th>3</th>\n",
       "      <td>895</td>\n",
       "      <td>3</td>\n",
       "      <td>Wirz, Mr. Albert</td>\n",
       "      <td>male</td>\n",
       "      <td>27.0</td>\n",
       "      <td>0</td>\n",
       "      <td>0</td>\n",
       "      <td>315154</td>\n",
       "      <td>8.6625</td>\n",
       "      <td>NaN</td>\n",
       "      <td>S</td>\n",
       "    </tr>\n",
       "    <tr>\n",
       "      <th>4</th>\n",
       "      <td>896</td>\n",
       "      <td>3</td>\n",
       "      <td>Hirvonen, Mrs. Alexander (Helga E Lindqvist)</td>\n",
       "      <td>female</td>\n",
       "      <td>22.0</td>\n",
       "      <td>1</td>\n",
       "      <td>1</td>\n",
       "      <td>3101298</td>\n",
       "      <td>12.2875</td>\n",
       "      <td>NaN</td>\n",
       "      <td>S</td>\n",
       "    </tr>\n",
       "  </tbody>\n",
       "</table>\n",
       "</div>"
      ],
      "text/plain": [
       "   PassengerId  Pclass                                          Name     Sex  \\\n",
       "0          892       3                              Kelly, Mr. James    male   \n",
       "1          893       3              Wilkes, Mrs. James (Ellen Needs)  female   \n",
       "2          894       2                     Myles, Mr. Thomas Francis    male   \n",
       "3          895       3                              Wirz, Mr. Albert    male   \n",
       "4          896       3  Hirvonen, Mrs. Alexander (Helga E Lindqvist)  female   \n",
       "\n",
       "    Age  SibSp  Parch   Ticket     Fare Cabin Embarked  \n",
       "0  34.5      0      0   330911   7.8292   NaN        Q  \n",
       "1  47.0      1      0   363272   7.0000   NaN        S  \n",
       "2  62.0      0      0   240276   9.6875   NaN        Q  \n",
       "3  27.0      0      0   315154   8.6625   NaN        S  \n",
       "4  22.0      1      1  3101298  12.2875   NaN        S  "
      ]
     },
     "execution_count": 4,
     "metadata": {},
     "output_type": "execute_result"
    }
   ],
   "source": [
    "test.head()"
   ]
  },
  {
   "cell_type": "markdown",
   "metadata": {},
   "source": [
    "## Naive Prediction\n",
    "\n",
    "Let's try predicting the survival from just gender and class, try to get to submitting SOME prediction as quickly as possible."
   ]
  },
  {
   "cell_type": "code",
   "execution_count": 69,
   "metadata": {},
   "outputs": [],
   "source": [
    "from keras.models import Sequential\n",
    "from keras.layers import Dense\n",
    "from keras import regularizers as reg\n",
    "import csv\n",
    "import re\n",
    "\n",
    "def prep_input(df):\n",
    "    pclass = np.array(pd.get_dummies(df['Pclass']))\n",
    "    sex = np.array(pd.get_dummies(df['Sex']))\n",
    "    return np.concatenate((pclass, sex), axis=1)\n",
    "\n",
    "def prep_input_with_age(df):\n",
    "    x_train_1 = prep_input(df)\n",
    "    age = df['Age'].values\n",
    "    just_nums = age[~np.isnan(age)]\n",
    "    mu = just_nums.mean()\n",
    "    sigma = just_nums.std()\n",
    "    age[np.isnan(age)] = mu\n",
    "    X_age = ((age - mu) / sigma).reshape(len(age), 1)\n",
    "    X2_train = np.concatenate((x_train_1, X_age), axis=1)\n",
    "    return X2_train\n",
    "\n",
    "def get_title(name):\n",
    "    title_search = re.search(' ([A-Za-z]+)\\.', name)\n",
    "    # If the title exists, extract and return it.\n",
    "    if title_search:\n",
    "        return title_search.group(1)\n",
    "    return \"\"\n",
    "\n",
    "def prep_full_input(df):\n",
    "    x_train_base = prep_input_with_age(df)\n",
    "    family_size = (df['SibSp'] + df['Parch'] + 1).values.reshape(len(df), 1)\n",
    "    \n",
    "    titles = df['Name'].apply(get_title).replace(['Lady', 'Countess','Capt', 'Col','Don', 'Dr', 'Major', 'Rev', 'Sir', 'Jonkheer', 'Dona'], 'Rare')\n",
    "    titles = pd.get_dummies(titles.replace('Mlle', 'Miss').replace('Ms', 'Miss').replace('Mme', 'Mrs')).values\n",
    "    \n",
    "    fare_median = df['Fare'].median()\n",
    "    fare_mean = df['Fare'].mean()\n",
    "    fare_std = df['Fare'].std()\n",
    "    fares = df['Fare'].fillna(fare_median).values\n",
    "    X_fares = ((fares - fare_mean) / fare_std).reshape(len(fares), 1)\n",
    "    \n",
    "    X_stacked = np.concatenate((x_train_base, family_size, titles, X_fares), axis=1)\n",
    "    return X_stacked\n",
    "    \n",
    "\n",
    "def simple_net(input_units):\n",
    "    model = Sequential()\n",
    "    model.add(Dense(units=15,activation='relu', input_dim=input_units))\n",
    "    model.add(Dense(units=1, activation='sigmoid'))\n",
    "    model.compile(loss='binary_crossentropy', optimizer='sgd', metrics=['accuracy'])\n",
    "    return model\n",
    "\n",
    "def regularized_net(input_units):\n",
    "    model = Sequential()\n",
    "    model.add(Dense(units=15,activation='relu', input_dim=input_units, kernel_regularizer=reg.l2(0.001)))\n",
    "    model.add(Dense(units=1, activation='sigmoid', kernel_regularizer=reg.l2(0.001)))\n",
    "    model.compile(loss='binary_crossentropy', optimizer='sgd', metrics=['accuracy'])\n",
    "    return model\n",
    "\n",
    "def regularized_deep_net(input_units):\n",
    "    model = Sequential()\n",
    "    model.add(Dense(units=100,activation='relu', input_dim=input_units, kernel_regularizer=reg.l2(0.001)))\n",
    "    model.add(Dense(units=100,activation='relu', kernel_regularizer=reg.l2(0.001)))\n",
    "    model.add(Dense(units=1, activation='sigmoid', kernel_regularizer=reg.l2(0.001)))\n",
    "    model.compile(loss='binary_crossentropy', optimizer='sgd', metrics=['accuracy'])\n",
    "    return model\n",
    "\n",
    "def naive_net():\n",
    "    return simple_net(5)\n",
    "\n",
    "def age_net():\n",
    "    return simple_net(6)\n",
    "\n",
    "def naive_reg_net():\n",
    "    return simple_net(5)\n",
    "\n",
    "def age_reg_net():\n",
    "    return simple_net(6)\n",
    "    \n",
    "\n",
    "def write_prediction_file(predictions, data):\n",
    "    ids = np.array(list(data['PassengerId'])).reshape(len(data['PassengerId']), 1).astype(int)\n",
    "    output = np.concatenate((ids, predictions), axis=1)\n",
    "    with open(\"predictions.csv\", \"w\") as f:\n",
    "        writer = csv.writer(f)\n",
    "        writer.writerow([\"PassengerId\",\"Survived\"])\n",
    "        for row in output:\n",
    "            writer.writerow(row)"
   ]
  },
  {
   "cell_type": "code",
   "execution_count": 6,
   "metadata": {
    "collapsed": true
   },
   "outputs": [],
   "source": [
    "x_train = prep_input(training)\n",
    "y_train = np.array(list(training['Survived']))"
   ]
  },
  {
   "cell_type": "code",
   "execution_count": 7,
   "metadata": {},
   "outputs": [
    {
     "name": "stdout",
     "output_type": "stream",
     "text": [
      "Epoch 1/5\n",
      "891/891 [==============================] - 0s 431us/step - loss: 0.7088 - acc: 0.5028\n",
      "Epoch 2/5\n",
      "891/891 [==============================] - 0s 55us/step - loss: 0.6651 - acc: 0.6880\n",
      "Epoch 3/5\n",
      "891/891 [==============================] - 0s 63us/step - loss: 0.6394 - acc: 0.6880\n",
      "Epoch 4/5\n",
      "891/891 [==============================] - 0s 72us/step - loss: 0.6216 - acc: 0.6880\n",
      "Epoch 5/5\n",
      "891/891 [==============================] - 0s 77us/step - loss: 0.6080 - acc: 0.6880\n"
     ]
    },
    {
     "data": {
      "text/plain": [
       "<keras.callbacks.History at 0x1257b5a20>"
      ]
     },
     "execution_count": 7,
     "metadata": {},
     "output_type": "execute_result"
    }
   ],
   "source": [
    "model = simple_net(5)\n",
    "model.fit(x_train, y_train, epochs=5, batch_size=32)"
   ]
  },
  {
   "cell_type": "code",
   "execution_count": 8,
   "metadata": {
    "collapsed": true
   },
   "outputs": [],
   "source": [
    "x_test = prep_input(test)\n",
    "predictions = np.round(model.predict(x_test)).astype(int)"
   ]
  },
  {
   "cell_type": "code",
   "execution_count": 9,
   "metadata": {
    "collapsed": true
   },
   "outputs": [],
   "source": [
    "write_prediction_file(predictions, test)"
   ]
  },
  {
   "cell_type": "markdown",
   "metadata": {
    "collapsed": true
   },
   "source": [
    "## Including Age\n",
    "\n",
    "Intuitively, children are allowed to get on boats first.  Including properly normalized age should be a useful feature."
   ]
  },
  {
   "cell_type": "code",
   "execution_count": 10,
   "metadata": {
    "collapsed": true
   },
   "outputs": [],
   "source": [
    "X2_train = prep_input_with_age(training)"
   ]
  },
  {
   "cell_type": "code",
   "execution_count": 11,
   "metadata": {},
   "outputs": [
    {
     "name": "stdout",
     "output_type": "stream",
     "text": [
      "Epoch 1/10\n",
      "891/891 [==============================] - 1s 602us/step - loss: 0.8213 - acc: 0.3962\n",
      "Epoch 2/10\n",
      "891/891 [==============================] - 0s 69us/step - loss: 0.7667 - acc: 0.4512\n",
      "Epoch 3/10\n",
      "891/891 [==============================] - 0s 68us/step - loss: 0.7269 - acc: 0.5511\n",
      "Epoch 4/10\n",
      "891/891 [==============================] - 0s 69us/step - loss: 0.6984 - acc: 0.5847\n",
      "Epoch 5/10\n",
      "891/891 [==============================] - 0s 74us/step - loss: 0.6755 - acc: 0.6083\n",
      "Epoch 6/10\n",
      "891/891 [==============================] - 0s 76us/step - loss: 0.6560 - acc: 0.6308\n",
      "Epoch 7/10\n",
      "891/891 [==============================] - 0s 68us/step - loss: 0.6389 - acc: 0.6431\n",
      "Epoch 8/10\n",
      "891/891 [==============================] - 0s 72us/step - loss: 0.6240 - acc: 0.6655\n",
      "Epoch 9/10\n",
      "891/891 [==============================] - 0s 77us/step - loss: 0.6105 - acc: 0.6723\n",
      "Epoch 10/10\n",
      "891/891 [==============================] - 0s 75us/step - loss: 0.5985 - acc: 0.7015\n"
     ]
    },
    {
     "data": {
      "text/plain": [
       "<keras.callbacks.History at 0x125c52160>"
      ]
     },
     "execution_count": 11,
     "metadata": {},
     "output_type": "execute_result"
    }
   ],
   "source": [
    "model2 = simple_net(6)\n",
    "model2.fit(X2_train, y_train, epochs=10, batch_size=32)"
   ]
  },
  {
   "cell_type": "code",
   "execution_count": 12,
   "metadata": {
    "collapsed": true
   },
   "outputs": [],
   "source": [
    "x2_test = prep_input_with_age(test)\n",
    "predictions2 = np.round(model2.predict(x2_test)).astype(int)"
   ]
  },
  {
   "cell_type": "code",
   "execution_count": 13,
   "metadata": {
    "collapsed": true
   },
   "outputs": [],
   "source": [
    "write_prediction_file(predictions2, test)"
   ]
  },
  {
   "cell_type": "code",
   "execution_count": 14,
   "metadata": {},
   "outputs": [
    {
     "data": {
      "text/plain": [
       "(891, 5)"
      ]
     },
     "execution_count": 14,
     "metadata": {},
     "output_type": "execute_result"
    }
   ],
   "source": [
    "x_train.shape"
   ]
  },
  {
   "cell_type": "markdown",
   "metadata": {},
   "source": [
    "## Model validation\n",
    "\n",
    "so far no work has gone into validating the accuracy of these models on data it hasn't seen yet, which could allow overfitting.  Let's do some cross-validation."
   ]
  },
  {
   "cell_type": "code",
   "execution_count": 72,
   "metadata": {
    "collapsed": true
   },
   "outputs": [],
   "source": [
    "from keras.wrappers.scikit_learn import KerasClassifier\n",
    "from sklearn.model_selection import cross_val_score"
   ]
  },
  {
   "cell_type": "code",
   "execution_count": 79,
   "metadata": {
    "collapsed": true
   },
   "outputs": [],
   "source": [
    "naive_model = KerasClassifier(build_fn=naive_net, epochs=10, batch_size=32, verbose=0)\n",
    "naive_reg_model = KerasClassifier(build_fn=naive_reg_net, epochs=10, batch_size=32, verbose=0)\n",
    "age_model = KerasClassifier(build_fn=age_net, epochs=10, batch_size=32, verbose=0)\n",
    "age_reg_model = KerasClassifier(build_fn=age_reg_net, epochs=10, batch_size=32, verbose=0)\n",
    "\n",
    "naive_data = prep_input(training)\n",
    "age_data = prep_input_with_age(training)\n",
    "y_train = np.array(list(training['Survived']))"
   ]
  },
  {
   "cell_type": "code",
   "execution_count": 80,
   "metadata": {},
   "outputs": [
    {
     "data": {
      "text/plain": [
       "array([ 0.70403588,  0.56502242,  0.61883408,  0.51801802])"
      ]
     },
     "execution_count": 80,
     "metadata": {},
     "output_type": "execute_result"
    }
   ],
   "source": [
    "cross_val_score(naive_model, naive_data, y_train, cv=4)"
   ]
  },
  {
   "cell_type": "code",
   "execution_count": 81,
   "metadata": {},
   "outputs": [
    {
     "data": {
      "text/plain": [
       "array([ 0.76233184,  0.78923766,  0.70403587,  0.73423424])"
      ]
     },
     "execution_count": 81,
     "metadata": {},
     "output_type": "execute_result"
    }
   ],
   "source": [
    "cross_val_score(naive_reg_model, naive_data, y_train, cv=4)"
   ]
  },
  {
   "cell_type": "code",
   "execution_count": 82,
   "metadata": {},
   "outputs": [
    {
     "data": {
      "text/plain": [
       "array([ 0.77130045,  0.69955157,  0.73542601,  0.72072072])"
      ]
     },
     "execution_count": 82,
     "metadata": {},
     "output_type": "execute_result"
    }
   ],
   "source": [
    "cross_val_score(age_model, age_data, y_train, cv=4)"
   ]
  },
  {
   "cell_type": "code",
   "execution_count": 83,
   "metadata": {},
   "outputs": [
    {
     "data": {
      "text/plain": [
       "array([ 0.65022422,  0.60538117,  0.66816144,  0.77027027])"
      ]
     },
     "execution_count": 83,
     "metadata": {},
     "output_type": "execute_result"
    }
   ],
   "source": [
    "cross_val_score(age_reg_model, age_data, y_train, cv=4)"
   ]
  },
  {
   "cell_type": "markdown",
   "metadata": {
    "collapsed": true
   },
   "source": [
    "## Add clever feaatures from ensemble practice"
   ]
  },
  {
   "cell_type": "code",
   "execution_count": 67,
   "metadata": {},
   "outputs": [
    {
     "data": {
      "text/plain": [
       "(891, 13)"
      ]
     },
     "execution_count": 67,
     "metadata": {},
     "output_type": "execute_result"
    }
   ],
   "source": [
    "x_train_full = prep_full_input(training)\n",
    "x_train_full.shape"
   ]
  },
  {
   "cell_type": "code",
   "execution_count": 71,
   "metadata": {},
   "outputs": [
    {
     "name": "stdout",
     "output_type": "stream",
     "text": [
      "Train on 757 samples, validate on 134 samples\n",
      "Epoch 1/100\n",
      " - 1s - loss: 0.8397 - acc: 0.3963 - val_loss: 0.8064 - val_acc: 0.6194\n",
      "Epoch 2/100\n",
      " - 0s - loss: 0.7928 - acc: 0.6486 - val_loss: 0.7668 - val_acc: 0.6940\n",
      "Epoch 3/100\n",
      " - 0s - loss: 0.7637 - acc: 0.6486 - val_loss: 0.7385 - val_acc: 0.7164\n",
      "Epoch 4/100\n",
      " - 0s - loss: 0.7412 - acc: 0.7015 - val_loss: 0.7145 - val_acc: 0.7463\n",
      "Epoch 5/100\n",
      " - 0s - loss: 0.7210 - acc: 0.7517 - val_loss: 0.6937 - val_acc: 0.7836\n",
      "Epoch 6/100\n",
      " - 0s - loss: 0.7036 - acc: 0.7728 - val_loss: 0.6748 - val_acc: 0.7985\n",
      "Epoch 7/100\n",
      " - 0s - loss: 0.6876 - acc: 0.7741 - val_loss: 0.6571 - val_acc: 0.7985\n",
      "Epoch 8/100\n",
      " - 0s - loss: 0.6734 - acc: 0.7781 - val_loss: 0.6423 - val_acc: 0.8433\n",
      "Epoch 9/100\n",
      " - 0s - loss: 0.6604 - acc: 0.7860 - val_loss: 0.6277 - val_acc: 0.8433\n",
      "Epoch 10/100\n",
      " - 0s - loss: 0.6487 - acc: 0.7873 - val_loss: 0.6152 - val_acc: 0.8507\n",
      "Epoch 11/100\n",
      " - 0s - loss: 0.6386 - acc: 0.7926 - val_loss: 0.6033 - val_acc: 0.8433\n",
      "Epoch 12/100\n",
      " - 0s - loss: 0.6293 - acc: 0.7939 - val_loss: 0.5925 - val_acc: 0.8507\n",
      "Epoch 13/100\n",
      " - 0s - loss: 0.6212 - acc: 0.7952 - val_loss: 0.5837 - val_acc: 0.8507\n",
      "Epoch 14/100\n",
      " - 0s - loss: 0.6145 - acc: 0.7939 - val_loss: 0.5751 - val_acc: 0.8433\n",
      "Epoch 15/100\n",
      " - 0s - loss: 0.6077 - acc: 0.7952 - val_loss: 0.5669 - val_acc: 0.8433\n",
      "Epoch 16/100\n",
      " - 0s - loss: 0.6027 - acc: 0.8005 - val_loss: 0.5611 - val_acc: 0.8433\n",
      "Epoch 17/100\n",
      " - 0s - loss: 0.5981 - acc: 0.7992 - val_loss: 0.5555 - val_acc: 0.8433\n",
      "Epoch 18/100\n",
      " - 0s - loss: 0.5939 - acc: 0.7979 - val_loss: 0.5502 - val_acc: 0.8433\n",
      "Epoch 19/100\n",
      " - 0s - loss: 0.5905 - acc: 0.7979 - val_loss: 0.5454 - val_acc: 0.8433\n",
      "Epoch 20/100\n",
      " - 0s - loss: 0.5876 - acc: 0.7952 - val_loss: 0.5412 - val_acc: 0.8433\n",
      "Epoch 21/100\n",
      " - 0s - loss: 0.5842 - acc: 0.7979 - val_loss: 0.5383 - val_acc: 0.8433\n",
      "Epoch 22/100\n",
      " - 0s - loss: 0.5817 - acc: 0.7966 - val_loss: 0.5354 - val_acc: 0.8507\n",
      "Epoch 23/100\n",
      " - 0s - loss: 0.5795 - acc: 0.7966 - val_loss: 0.5317 - val_acc: 0.8507\n",
      "Epoch 24/100\n",
      " - 0s - loss: 0.5768 - acc: 0.7992 - val_loss: 0.5282 - val_acc: 0.8433\n",
      "Epoch 25/100\n",
      " - 0s - loss: 0.5750 - acc: 0.7979 - val_loss: 0.5274 - val_acc: 0.8582\n",
      "Epoch 26/100\n",
      " - 0s - loss: 0.5735 - acc: 0.8018 - val_loss: 0.5240 - val_acc: 0.8507\n",
      "Epoch 27/100\n",
      " - 0s - loss: 0.5713 - acc: 0.8032 - val_loss: 0.5220 - val_acc: 0.8507\n",
      "Epoch 28/100\n",
      " - 0s - loss: 0.5697 - acc: 0.8018 - val_loss: 0.5217 - val_acc: 0.8507\n",
      "Epoch 29/100\n",
      " - 0s - loss: 0.5682 - acc: 0.8058 - val_loss: 0.5186 - val_acc: 0.8507\n",
      "Epoch 30/100\n",
      " - 0s - loss: 0.5671 - acc: 0.8071 - val_loss: 0.5169 - val_acc: 0.8507\n",
      "Epoch 31/100\n",
      " - 0s - loss: 0.5660 - acc: 0.8085 - val_loss: 0.5150 - val_acc: 0.8433\n",
      "Epoch 32/100\n",
      " - 0s - loss: 0.5654 - acc: 0.8032 - val_loss: 0.5140 - val_acc: 0.8507\n",
      "Epoch 33/100\n",
      " - 0s - loss: 0.5635 - acc: 0.8085 - val_loss: 0.5131 - val_acc: 0.8507\n",
      "Epoch 34/100\n",
      " - 0s - loss: 0.5622 - acc: 0.8071 - val_loss: 0.5117 - val_acc: 0.8507\n",
      "Epoch 35/100\n",
      " - 0s - loss: 0.5611 - acc: 0.8111 - val_loss: 0.5112 - val_acc: 0.8507\n",
      "Epoch 36/100\n",
      " - 0s - loss: 0.5609 - acc: 0.8098 - val_loss: 0.5091 - val_acc: 0.8507\n",
      "Epoch 37/100\n",
      " - 0s - loss: 0.5594 - acc: 0.8098 - val_loss: 0.5082 - val_acc: 0.8507\n",
      "Epoch 38/100\n",
      " - 0s - loss: 0.5586 - acc: 0.8124 - val_loss: 0.5079 - val_acc: 0.8507\n",
      "Epoch 39/100\n",
      " - 0s - loss: 0.5579 - acc: 0.8098 - val_loss: 0.5067 - val_acc: 0.8507\n",
      "Epoch 40/100\n",
      " - 0s - loss: 0.5566 - acc: 0.8085 - val_loss: 0.5048 - val_acc: 0.8507\n",
      "Epoch 41/100\n",
      " - 0s - loss: 0.5563 - acc: 0.8111 - val_loss: 0.5042 - val_acc: 0.8507\n",
      "Epoch 42/100\n",
      " - 0s - loss: 0.5552 - acc: 0.8111 - val_loss: 0.5039 - val_acc: 0.8507\n",
      "Epoch 43/100\n",
      " - 0s - loss: 0.5539 - acc: 0.8124 - val_loss: 0.5023 - val_acc: 0.8507\n",
      "Epoch 44/100\n",
      " - 0s - loss: 0.5533 - acc: 0.8111 - val_loss: 0.5014 - val_acc: 0.8507\n",
      "Epoch 45/100\n",
      " - 0s - loss: 0.5527 - acc: 0.8137 - val_loss: 0.5010 - val_acc: 0.8507\n",
      "Epoch 46/100\n",
      " - 0s - loss: 0.5519 - acc: 0.8111 - val_loss: 0.4994 - val_acc: 0.8507\n",
      "Epoch 47/100\n",
      " - 0s - loss: 0.5515 - acc: 0.8137 - val_loss: 0.4997 - val_acc: 0.8507\n",
      "Epoch 48/100\n",
      " - 0s - loss: 0.5506 - acc: 0.8111 - val_loss: 0.4988 - val_acc: 0.8507\n",
      "Epoch 49/100\n",
      " - 0s - loss: 0.5500 - acc: 0.8098 - val_loss: 0.4978 - val_acc: 0.8507\n",
      "Epoch 50/100\n",
      " - 0s - loss: 0.5496 - acc: 0.8111 - val_loss: 0.4979 - val_acc: 0.8507\n",
      "Epoch 51/100\n",
      " - 0s - loss: 0.5485 - acc: 0.8085 - val_loss: 0.4962 - val_acc: 0.8507\n",
      "Epoch 52/100\n",
      " - 0s - loss: 0.5483 - acc: 0.8111 - val_loss: 0.4964 - val_acc: 0.8507\n",
      "Epoch 53/100\n",
      " - 0s - loss: 0.5475 - acc: 0.8098 - val_loss: 0.4955 - val_acc: 0.8507\n",
      "Epoch 54/100\n",
      " - 0s - loss: 0.5468 - acc: 0.8111 - val_loss: 0.4954 - val_acc: 0.8507\n",
      "Epoch 55/100\n",
      " - 0s - loss: 0.5464 - acc: 0.8111 - val_loss: 0.4944 - val_acc: 0.8507\n",
      "Epoch 56/100\n",
      " - 0s - loss: 0.5461 - acc: 0.8111 - val_loss: 0.4931 - val_acc: 0.8507\n",
      "Epoch 57/100\n",
      " - 0s - loss: 0.5454 - acc: 0.8124 - val_loss: 0.4938 - val_acc: 0.8507\n",
      "Epoch 58/100\n",
      " - 0s - loss: 0.5450 - acc: 0.8111 - val_loss: 0.4934 - val_acc: 0.8507\n",
      "Epoch 59/100\n",
      " - 0s - loss: 0.5441 - acc: 0.8111 - val_loss: 0.4912 - val_acc: 0.8507\n",
      "Epoch 60/100\n",
      " - 0s - loss: 0.5440 - acc: 0.8124 - val_loss: 0.4912 - val_acc: 0.8507\n",
      "Epoch 61/100\n",
      " - 0s - loss: 0.5438 - acc: 0.8124 - val_loss: 0.4906 - val_acc: 0.8507\n",
      "Epoch 62/100\n",
      " - 0s - loss: 0.5428 - acc: 0.8151 - val_loss: 0.4913 - val_acc: 0.8507\n",
      "Epoch 63/100\n",
      " - 0s - loss: 0.5421 - acc: 0.8137 - val_loss: 0.4919 - val_acc: 0.8507\n",
      "Epoch 64/100\n",
      " - 0s - loss: 0.5417 - acc: 0.8111 - val_loss: 0.4887 - val_acc: 0.8507\n",
      "Epoch 65/100\n",
      " - 0s - loss: 0.5419 - acc: 0.8137 - val_loss: 0.4913 - val_acc: 0.8507\n",
      "Epoch 66/100\n",
      " - 0s - loss: 0.5414 - acc: 0.8111 - val_loss: 0.4886 - val_acc: 0.8507\n",
      "Epoch 67/100\n",
      " - 0s - loss: 0.5407 - acc: 0.8124 - val_loss: 0.4908 - val_acc: 0.8507\n",
      "Epoch 68/100\n",
      " - 0s - loss: 0.5404 - acc: 0.8111 - val_loss: 0.4884 - val_acc: 0.8507\n",
      "Epoch 69/100\n",
      " - 0s - loss: 0.5399 - acc: 0.8124 - val_loss: 0.4866 - val_acc: 0.8507\n",
      "Epoch 70/100\n",
      " - 0s - loss: 0.5392 - acc: 0.8151 - val_loss: 0.4881 - val_acc: 0.8507\n",
      "Epoch 71/100\n",
      " - 0s - loss: 0.5384 - acc: 0.8124 - val_loss: 0.4869 - val_acc: 0.8507\n",
      "Epoch 72/100\n",
      " - 0s - loss: 0.5381 - acc: 0.8137 - val_loss: 0.4858 - val_acc: 0.8507\n",
      "Epoch 73/100\n",
      " - 0s - loss: 0.5379 - acc: 0.8137 - val_loss: 0.4861 - val_acc: 0.8507\n",
      "Epoch 74/100\n",
      " - 0s - loss: 0.5380 - acc: 0.8137 - val_loss: 0.4845 - val_acc: 0.8507\n",
      "Epoch 75/100\n",
      " - 0s - loss: 0.5374 - acc: 0.8151 - val_loss: 0.4855 - val_acc: 0.8507\n",
      "Epoch 76/100\n",
      " - 0s - loss: 0.5368 - acc: 0.8151 - val_loss: 0.4846 - val_acc: 0.8507\n",
      "Epoch 77/100\n",
      " - 0s - loss: 0.5363 - acc: 0.8177 - val_loss: 0.4860 - val_acc: 0.8582\n",
      "Epoch 78/100\n",
      " - 0s - loss: 0.5363 - acc: 0.8151 - val_loss: 0.4872 - val_acc: 0.8582\n",
      "Epoch 79/100\n",
      " - 0s - loss: 0.5363 - acc: 0.8190 - val_loss: 0.4861 - val_acc: 0.8582\n",
      "Epoch 80/100\n",
      " - 0s - loss: 0.5352 - acc: 0.8177 - val_loss: 0.4834 - val_acc: 0.8582\n",
      "Epoch 81/100\n",
      " - 0s - loss: 0.5351 - acc: 0.8190 - val_loss: 0.4839 - val_acc: 0.8582\n",
      "Epoch 82/100\n",
      " - 0s - loss: 0.5353 - acc: 0.8190 - val_loss: 0.4834 - val_acc: 0.8582\n",
      "Epoch 83/100\n",
      " - 0s - loss: 0.5350 - acc: 0.8177 - val_loss: 0.4833 - val_acc: 0.8582\n",
      "Epoch 84/100\n",
      " - 0s - loss: 0.5339 - acc: 0.8164 - val_loss: 0.4819 - val_acc: 0.8507\n",
      "Epoch 85/100\n",
      " - 0s - loss: 0.5333 - acc: 0.8177 - val_loss: 0.4804 - val_acc: 0.8433\n",
      "Epoch 86/100\n",
      " - 0s - loss: 0.5334 - acc: 0.8230 - val_loss: 0.4829 - val_acc: 0.8582\n",
      "Epoch 87/100\n",
      " - 0s - loss: 0.5334 - acc: 0.8203 - val_loss: 0.4817 - val_acc: 0.8582\n",
      "Epoch 88/100\n",
      " - 0s - loss: 0.5324 - acc: 0.8230 - val_loss: 0.4797 - val_acc: 0.8507\n",
      "Epoch 89/100\n",
      " - 0s - loss: 0.5324 - acc: 0.8217 - val_loss: 0.4786 - val_acc: 0.8507\n",
      "Epoch 90/100\n",
      " - 0s - loss: 0.5323 - acc: 0.8217 - val_loss: 0.4787 - val_acc: 0.8507\n",
      "Epoch 91/100\n",
      " - 0s - loss: 0.5314 - acc: 0.8230 - val_loss: 0.4811 - val_acc: 0.8582\n",
      "Epoch 92/100\n",
      " - 0s - loss: 0.5312 - acc: 0.8203 - val_loss: 0.4792 - val_acc: 0.8507\n",
      "Epoch 93/100\n",
      " - 0s - loss: 0.5319 - acc: 0.8203 - val_loss: 0.4789 - val_acc: 0.8507\n",
      "Epoch 94/100\n",
      " - 0s - loss: 0.5310 - acc: 0.8243 - val_loss: 0.4789 - val_acc: 0.8507\n",
      "Epoch 95/100\n",
      " - 0s - loss: 0.5304 - acc: 0.8243 - val_loss: 0.4817 - val_acc: 0.8657\n",
      "Epoch 96/100\n",
      " - 0s - loss: 0.5303 - acc: 0.8269 - val_loss: 0.4783 - val_acc: 0.8507\n"
     ]
    },
    {
     "name": "stdout",
     "output_type": "stream",
     "text": [
      "Epoch 97/100\n",
      " - 0s - loss: 0.5295 - acc: 0.8269 - val_loss: 0.4767 - val_acc: 0.8507\n",
      "Epoch 98/100\n",
      " - 0s - loss: 0.5295 - acc: 0.8243 - val_loss: 0.4782 - val_acc: 0.8582\n",
      "Epoch 99/100\n",
      " - 0s - loss: 0.5288 - acc: 0.8269 - val_loss: 0.4785 - val_acc: 0.8657\n",
      "Epoch 100/100\n",
      " - 0s - loss: 0.5286 - acc: 0.8256 - val_loss: 0.4780 - val_acc: 0.8657\n"
     ]
    },
    {
     "data": {
      "text/plain": [
       "<keras.callbacks.History at 0x12c642940>"
      ]
     },
     "execution_count": 71,
     "metadata": {},
     "output_type": "execute_result"
    }
   ],
   "source": [
    "full_model = regularized_deep_net(13)\n",
    "full_model.fit(x_train_full, y_train, epochs=100, batch_size=32, verbose=2, validation_split=0.15)"
   ]
  },
  {
   "cell_type": "code",
   "execution_count": 72,
   "metadata": {},
   "outputs": [],
   "source": [
    "x_test = prep_full_input(test)\n",
    "predictions = np.round(full_model.predict(x_test)).astype(int)"
   ]
  },
  {
   "cell_type": "code",
   "execution_count": 73,
   "metadata": {
    "collapsed": true
   },
   "outputs": [],
   "source": [
    "write_prediction_file(predictions, test)"
   ]
  },
  {
   "cell_type": "code",
   "execution_count": null,
   "metadata": {
    "collapsed": true
   },
   "outputs": [],
   "source": []
  }
 ],
 "metadata": {
  "anaconda-cloud": {},
  "kernelspec": {
   "display_name": "Python 3",
   "language": "python",
   "name": "python3"
  },
  "language_info": {
   "codemirror_mode": {
    "name": "ipython",
    "version": 3
   },
   "file_extension": ".py",
   "mimetype": "text/x-python",
   "name": "python",
   "nbconvert_exporter": "python",
   "pygments_lexer": "ipython3",
   "version": "3.6.2"
  }
 },
 "nbformat": 4,
 "nbformat_minor": 1
}
